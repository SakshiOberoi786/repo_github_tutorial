{
  "cells": [
    {
      "cell_type": "code",
      "execution_count": null,
      "id": "d04ac96e",
      "metadata": {
        "id": "d04ac96e",
        "outputId": "aeb17c4d-1cac-409c-c0d6-97c5a2b2e6f2"
      },
      "outputs": [
        {
          "name": "stdout",
          "output_type": "stream",
          "text": [
            "Requirement already satisfied: yfinance in c:\\users\\karuna\\anaconda3\\anaconda_new\\lib\\site-packages (0.2.36)\n",
            "Requirement already satisfied: pandas>=1.3.0 in c:\\users\\karuna\\anaconda3\\anaconda_new\\lib\\site-packages (from yfinance) (1.5.3)\n",
            "Requirement already satisfied: numpy>=1.16.5 in c:\\users\\karuna\\anaconda3\\anaconda_new\\lib\\site-packages (from yfinance) (1.24.3)\n",
            "Requirement already satisfied: requests>=2.31 in c:\\users\\karuna\\anaconda3\\anaconda_new\\lib\\site-packages (from yfinance) (2.31.0)\n",
            "Requirement already satisfied: multitasking>=0.0.7 in c:\\users\\karuna\\anaconda3\\anaconda_new\\lib\\site-packages (from yfinance) (0.0.11)\n",
            "Requirement already satisfied: lxml>=4.9.1 in c:\\users\\karuna\\anaconda3\\anaconda_new\\lib\\site-packages (from yfinance) (4.9.2)\n",
            "Requirement already satisfied: appdirs>=1.4.4 in c:\\users\\karuna\\anaconda3\\anaconda_new\\lib\\site-packages (from yfinance) (1.4.4)\n",
            "Requirement already satisfied: pytz>=2022.5 in c:\\users\\karuna\\anaconda3\\anaconda_new\\lib\\site-packages (from yfinance) (2022.7)\n",
            "Requirement already satisfied: frozendict>=2.3.4 in c:\\users\\karuna\\anaconda3\\anaconda_new\\lib\\site-packages (from yfinance) (2.4.0)\n",
            "Requirement already satisfied: peewee>=3.16.2 in c:\\users\\karuna\\anaconda3\\anaconda_new\\lib\\site-packages (from yfinance) (3.17.1)\n",
            "Requirement already satisfied: beautifulsoup4>=4.11.1 in c:\\users\\karuna\\anaconda3\\anaconda_new\\lib\\site-packages (from yfinance) (4.12.2)\n",
            "Requirement already satisfied: html5lib>=1.1 in c:\\users\\karuna\\anaconda3\\anaconda_new\\lib\\site-packages (from yfinance) (1.1)\n",
            "Requirement already satisfied: soupsieve>1.2 in c:\\users\\karuna\\anaconda3\\anaconda_new\\lib\\site-packages (from beautifulsoup4>=4.11.1->yfinance) (2.4)\n",
            "Requirement already satisfied: six>=1.9 in c:\\users\\karuna\\anaconda3\\anaconda_new\\lib\\site-packages (from html5lib>=1.1->yfinance) (1.16.0)\n",
            "Requirement already satisfied: webencodings in c:\\users\\karuna\\anaconda3\\anaconda_new\\lib\\site-packages (from html5lib>=1.1->yfinance) (0.5.1)\n",
            "Requirement already satisfied: python-dateutil>=2.8.1 in c:\\users\\karuna\\anaconda3\\anaconda_new\\lib\\site-packages (from pandas>=1.3.0->yfinance) (2.8.2)\n",
            "Requirement already satisfied: charset-normalizer<4,>=2 in c:\\users\\karuna\\anaconda3\\anaconda_new\\lib\\site-packages (from requests>=2.31->yfinance) (2.0.4)\n",
            "Requirement already satisfied: idna<4,>=2.5 in c:\\users\\karuna\\anaconda3\\anaconda_new\\lib\\site-packages (from requests>=2.31->yfinance) (3.4)\n",
            "Requirement already satisfied: urllib3<3,>=1.21.1 in c:\\users\\karuna\\anaconda3\\anaconda_new\\lib\\site-packages (from requests>=2.31->yfinance) (1.26.16)\n",
            "Requirement already satisfied: certifi>=2017.4.17 in c:\\users\\karuna\\anaconda3\\anaconda_new\\lib\\site-packages (from requests>=2.31->yfinance) (2023.7.22)\n"
          ]
        },
        {
          "name": "stderr",
          "output_type": "stream",
          "text": [
            "C:\\Users\\Karuna\\anaconda3\\ANACONDA_NEW\\Lib\\site-packages\\yfinance\\base.py:48: FutureWarning: The default dtype for empty Series will be 'object' instead of 'float64' in a future version. Specify a dtype explicitly to silence this warning.\n",
            "  _empty_series = pd.Series()\n"
          ]
        }
      ],
      "source": [
        "!pip install yfinance\n",
        "import yfinance as yf\n",
        "import requests\n",
        "import pandas as pd"
      ]
    },
    {
      "cell_type": "code",
      "execution_count": null,
      "id": "655ad394",
      "metadata": {
        "id": "655ad394"
      },
      "outputs": [],
      "source": [
        "companies = {'Boustead Singapore Limited':'F9D.SI',\n",
        "                    'CapitaLand':'C38U.SI',\n",
        "                    'China Aviation Oil':'VZ8.HM',\n",
        "                    'ComfortDelGro':'C52.SI',\n",
        "                    'Fraser and Neave':'FNEVY',\n",
        "                    'Genting Singapore':'GIGNY',\n",
        "                    'Golden Agri-Resources':'GARPY',\n",
        "                    'Grab':'GRAB',\n",
        "                    'NETS':'NTWK',\n",
        "                    'OCBC Bank':'O39.SI',\n",
        "                    'Renewable Energy Corporation':'RNWR',\n",
        "                    'SATS Ltd':'S58.SI',\n",
        "                    'SBS Transit': 'S61.SI',\n",
        "                    'SembCorp Marine':'S8N.SG',\n",
        "                    'SIA Engineering Company':'S59.SI',\n",
        "                    'Singapore Airlines':'SINGY',\n",
        "                    'Singapore Exchange':'SPXCY',\n",
        "                    'Singapore Post':'SPSTY',\n",
        "             'Singapore Technologies Engineering Ltd':'S63.SI',\n",
        "             'StarHub':'SRHBF',\n",
        "             'Thakral Corporation':'AWI.SI',\n",
        "             'Yeo Hiap Seng':'Y03.SI',\n",
        "             'Wilmar':'F34.SI'\n",
        "                    }"
      ]
    },
    {
      "cell_type": "code",
      "execution_count": null,
      "id": "f5b8f12d",
      "metadata": {
        "id": "f5b8f12d",
        "outputId": "c85c3312-c559-440f-9a95-c45b59288d4c"
      },
      "outputs": [
        {
          "data": {
            "text/plain": [
              "23"
            ]
          },
          "execution_count": 7,
          "metadata": {},
          "output_type": "execute_result"
        }
      ],
      "source": [
        "len(companies)"
      ]
    },
    {
      "cell_type": "markdown",
      "id": "299dd125",
      "metadata": {
        "id": "299dd125"
      },
      "source": [
        "## Function to get news using newsapi and yfinance API"
      ]
    },
    {
      "cell_type": "code",
      "execution_count": null,
      "id": "c3326a33",
      "metadata": {
        "id": "c3326a33"
      },
      "outputs": [],
      "source": [
        "def get_data():\n",
        "    df = pd.DataFrame({'symbol': [],'company_name': [], 'news': []})\n",
        "    API_KEY = '199b21c860a5466fbf8f53f894d0af3c'\n",
        "    for k, v in companies.items():\n",
        "        company_symbol = v\n",
        "        url = f'https://newsapi.org/v2/everything?q={company_symbol}&sortBy=publishedAt&apiKey={API_KEY}'\n",
        "        response = requests.get(url).json()\n",
        "        articles = response['articles'][:8]\n",
        "\n",
        "        for art in articles:\n",
        "            title = art.get('title', None)\n",
        "            new_row = pd.Series({'symbol': v, 'company_name': k, 'news': title })\n",
        "            df = pd.concat([df, new_row.to_frame().T], ignore_index=True)\n",
        "        if response['totalResults'] <=3:\n",
        "            t = yf.Ticker(v)\n",
        "            news = t.get_news()\n",
        "            for article in news:\n",
        "                title = article[\"title\"]\n",
        "                new_row = pd.Series({'symbol': v, 'company_name': k, 'news': title })\n",
        "\n",
        "                df = pd.concat([df, new_row.to_frame().T], ignore_index=True)\n",
        "    return df\n",
        "\n",
        "df = get_data()\n",
        "\n",
        "# savinf it into a csv file\n",
        "df.to_csv('company_news.csv', sep=\",\")\n"
      ]
    },
    {
      "cell_type": "code",
      "execution_count": null,
      "id": "5a773e3a",
      "metadata": {
        "id": "5a773e3a",
        "outputId": "17109471-1bb9-472b-8723-9c0c1781ad51"
      },
      "outputs": [
        {
          "data": {
            "text/html": [
              "<div>\n",
              "<style scoped>\n",
              "    .dataframe tbody tr th:only-of-type {\n",
              "        vertical-align: middle;\n",
              "    }\n",
              "\n",
              "    .dataframe tbody tr th {\n",
              "        vertical-align: top;\n",
              "    }\n",
              "\n",
              "    .dataframe thead th {\n",
              "        text-align: right;\n",
              "    }\n",
              "</style>\n",
              "<table border=\"1\" class=\"dataframe\">\n",
              "  <thead>\n",
              "    <tr style=\"text-align: right;\">\n",
              "      <th></th>\n",
              "      <th>Unnamed: 0</th>\n",
              "      <th>symbol</th>\n",
              "      <th>company_name</th>\n",
              "      <th>news</th>\n",
              "    </tr>\n",
              "  </thead>\n",
              "  <tbody>\n",
              "    <tr>\n",
              "      <th>0</th>\n",
              "      <td>0</td>\n",
              "      <td>F9D.SI</td>\n",
              "      <td>Boustead Singapore Limited</td>\n",
              "      <td>Q4 2023 ProPetro Holding Corp Earnings Call</td>\n",
              "    </tr>\n",
              "    <tr>\n",
              "      <th>1</th>\n",
              "      <td>1</td>\n",
              "      <td>F9D.SI</td>\n",
              "      <td>Boustead Singapore Limited</td>\n",
              "      <td>BOJ to scrap negative interest rates in April,...</td>\n",
              "    </tr>\n",
              "    <tr>\n",
              "      <th>2</th>\n",
              "      <td>2</td>\n",
              "      <td>F9D.SI</td>\n",
              "      <td>Boustead Singapore Limited</td>\n",
              "      <td>Exclusive-Reddit in AI content licensing deal ...</td>\n",
              "    </tr>\n",
              "    <tr>\n",
              "      <th>3</th>\n",
              "      <td>3</td>\n",
              "      <td>F9D.SI</td>\n",
              "      <td>Boustead Singapore Limited</td>\n",
              "      <td>Q4 2023 Travel + Leisure Co Earnings Call</td>\n",
              "    </tr>\n",
              "    <tr>\n",
              "      <th>4</th>\n",
              "      <td>4</td>\n",
              "      <td>F9D.SI</td>\n",
              "      <td>Boustead Singapore Limited</td>\n",
              "      <td>Q4 2023 Diamondback Energy Inc Earnings Call</td>\n",
              "    </tr>\n",
              "    <tr>\n",
              "      <th>...</th>\n",
              "      <td>...</td>\n",
              "      <td>...</td>\n",
              "      <td>...</td>\n",
              "      <td>...</td>\n",
              "    </tr>\n",
              "    <tr>\n",
              "      <th>140</th>\n",
              "      <td>140</td>\n",
              "      <td>Y03.SI</td>\n",
              "      <td>Yeo Hiap Seng</td>\n",
              "      <td>Drifting with purpose: sports car enthusiasts ...</td>\n",
              "    </tr>\n",
              "    <tr>\n",
              "      <th>141</th>\n",
              "      <td>141</td>\n",
              "      <td>F34.SI</td>\n",
              "      <td>Wilmar</td>\n",
              "      <td>Android 15 para móviles Samsung: todos los mod...</td>\n",
              "    </tr>\n",
              "    <tr>\n",
              "      <th>142</th>\n",
              "      <td>142</td>\n",
              "      <td>F34.SI</td>\n",
              "      <td>Wilmar</td>\n",
              "      <td>Android 15: novedades, móviles compatibles, fe...</td>\n",
              "    </tr>\n",
              "    <tr>\n",
              "      <th>143</th>\n",
              "      <td>143</td>\n",
              "      <td>F34.SI</td>\n",
              "      <td>Wilmar</td>\n",
              "      <td>Ecco quali dispositivi Samsung dovrebbero rice...</td>\n",
              "    </tr>\n",
              "    <tr>\n",
              "      <th>144</th>\n",
              "      <td>144</td>\n",
              "      <td>F34.SI</td>\n",
              "      <td>Wilmar</td>\n",
              "      <td>Masz telefon Samsung? Sprawdź, czy dostaniesz ...</td>\n",
              "    </tr>\n",
              "  </tbody>\n",
              "</table>\n",
              "<p>145 rows × 4 columns</p>\n",
              "</div>"
            ],
            "text/plain": [
              "     Unnamed: 0  symbol                company_name  \\\n",
              "0             0  F9D.SI  Boustead Singapore Limited   \n",
              "1             1  F9D.SI  Boustead Singapore Limited   \n",
              "2             2  F9D.SI  Boustead Singapore Limited   \n",
              "3             3  F9D.SI  Boustead Singapore Limited   \n",
              "4             4  F9D.SI  Boustead Singapore Limited   \n",
              "..          ...     ...                         ...   \n",
              "140         140  Y03.SI               Yeo Hiap Seng   \n",
              "141         141  F34.SI                      Wilmar   \n",
              "142         142  F34.SI                      Wilmar   \n",
              "143         143  F34.SI                      Wilmar   \n",
              "144         144  F34.SI                      Wilmar   \n",
              "\n",
              "                                                  news  \n",
              "0          Q4 2023 ProPetro Holding Corp Earnings Call  \n",
              "1    BOJ to scrap negative interest rates in April,...  \n",
              "2    Exclusive-Reddit in AI content licensing deal ...  \n",
              "3            Q4 2023 Travel + Leisure Co Earnings Call  \n",
              "4         Q4 2023 Diamondback Energy Inc Earnings Call  \n",
              "..                                                 ...  \n",
              "140  Drifting with purpose: sports car enthusiasts ...  \n",
              "141  Android 15 para móviles Samsung: todos los mod...  \n",
              "142  Android 15: novedades, móviles compatibles, fe...  \n",
              "143  Ecco quali dispositivi Samsung dovrebbero rice...  \n",
              "144  Masz telefon Samsung? Sprawdź, czy dostaniesz ...  \n",
              "\n",
              "[145 rows x 4 columns]"
            ]
          },
          "execution_count": 9,
          "metadata": {},
          "output_type": "execute_result"
        }
      ],
      "source": [
        "df = pd.read_csv('company_news.csv')\n",
        "df\n"
      ]
    },
    {
      "cell_type": "code",
      "execution_count": null,
      "id": "dcb1e631",
      "metadata": {
        "id": "dcb1e631",
        "outputId": "0e3d8401-6bec-4d55-bca0-b059416b6ef1"
      },
      "outputs": [
        {
          "data": {
            "text/plain": [
              "(145, 4)"
            ]
          },
          "execution_count": 10,
          "metadata": {},
          "output_type": "execute_result"
        }
      ],
      "source": [
        "df.shape"
      ]
    },
    {
      "cell_type": "code",
      "execution_count": null,
      "id": "00c970c9",
      "metadata": {
        "id": "00c970c9",
        "outputId": "965f4cf0-1a09-4b90-a584-d0157f847c60"
      },
      "outputs": [
        {
          "data": {
            "text/html": [
              "<div>\n",
              "<style scoped>\n",
              "    .dataframe tbody tr th:only-of-type {\n",
              "        vertical-align: middle;\n",
              "    }\n",
              "\n",
              "    .dataframe tbody tr th {\n",
              "        vertical-align: top;\n",
              "    }\n",
              "\n",
              "    .dataframe thead th {\n",
              "        text-align: right;\n",
              "    }\n",
              "</style>\n",
              "<table border=\"1\" class=\"dataframe\">\n",
              "  <thead>\n",
              "    <tr style=\"text-align: right;\">\n",
              "      <th></th>\n",
              "      <th>symbol</th>\n",
              "      <th>company_name</th>\n",
              "      <th>news</th>\n",
              "    </tr>\n",
              "  </thead>\n",
              "  <tbody>\n",
              "    <tr>\n",
              "      <th>0</th>\n",
              "      <td>F9D.SI</td>\n",
              "      <td>Boustead Singapore Limited</td>\n",
              "      <td>Q4 2023 ProPetro Holding Corp Earnings Call</td>\n",
              "    </tr>\n",
              "    <tr>\n",
              "      <th>1</th>\n",
              "      <td>F9D.SI</td>\n",
              "      <td>Boustead Singapore Limited</td>\n",
              "      <td>BOJ to scrap negative interest rates in April,...</td>\n",
              "    </tr>\n",
              "    <tr>\n",
              "      <th>2</th>\n",
              "      <td>F9D.SI</td>\n",
              "      <td>Boustead Singapore Limited</td>\n",
              "      <td>Exclusive-Reddit in AI content licensing deal ...</td>\n",
              "    </tr>\n",
              "    <tr>\n",
              "      <th>3</th>\n",
              "      <td>F9D.SI</td>\n",
              "      <td>Boustead Singapore Limited</td>\n",
              "      <td>Q4 2023 Travel + Leisure Co Earnings Call</td>\n",
              "    </tr>\n",
              "    <tr>\n",
              "      <th>4</th>\n",
              "      <td>F9D.SI</td>\n",
              "      <td>Boustead Singapore Limited</td>\n",
              "      <td>Q4 2023 Diamondback Energy Inc Earnings Call</td>\n",
              "    </tr>\n",
              "  </tbody>\n",
              "</table>\n",
              "</div>"
            ],
            "text/plain": [
              "   symbol                company_name  \\\n",
              "0  F9D.SI  Boustead Singapore Limited   \n",
              "1  F9D.SI  Boustead Singapore Limited   \n",
              "2  F9D.SI  Boustead Singapore Limited   \n",
              "3  F9D.SI  Boustead Singapore Limited   \n",
              "4  F9D.SI  Boustead Singapore Limited   \n",
              "\n",
              "                                                news  \n",
              "0        Q4 2023 ProPetro Holding Corp Earnings Call  \n",
              "1  BOJ to scrap negative interest rates in April,...  \n",
              "2  Exclusive-Reddit in AI content licensing deal ...  \n",
              "3          Q4 2023 Travel + Leisure Co Earnings Call  \n",
              "4       Q4 2023 Diamondback Energy Inc Earnings Call  "
            ]
          },
          "execution_count": 11,
          "metadata": {},
          "output_type": "execute_result"
        }
      ],
      "source": [
        "df.drop('Unnamed: 0', axis=1, inplace=True)\n",
        "df.head()"
      ]
    },
    {
      "cell_type": "code",
      "execution_count": null,
      "id": "11b8d03a",
      "metadata": {
        "id": "11b8d03a"
      },
      "outputs": [],
      "source": [
        "# importing essential packages for sentiment analysis\n",
        "from nltk.sentiment.vader import SentimentIntensityAnalyzer\n",
        "from nltk.corpus import stopwords\n",
        "from nltk.tokenize import word_tokenize\n",
        "from nltk.stem import WordNetLemmatizer"
      ]
    },
    {
      "cell_type": "code",
      "execution_count": null,
      "id": "deb4ed17",
      "metadata": {
        "id": "deb4ed17"
      },
      "outputs": [],
      "source": [
        "def text_cleaning(text):\n",
        "    # Text splitting\n",
        "    text_splitting = word_tokenize(text.lower())\n",
        "    # Remove stop words\n",
        "    filtered_tokens = [token for token in text_splitting if token not in stopwords.words('english')]\n",
        "    # Lemmatize the tokens\n",
        "    lemmatizer = WordNetLemmatizer()\n",
        "    lemmatized_tokens = [lemmatizer.lemmatize(token) for token in filtered_tokens]\n",
        "    # Join the tokens back into a string\n",
        "    result = ' '.join(lemmatized_tokens)\n",
        "    return result"
      ]
    },
    {
      "cell_type": "code",
      "execution_count": null,
      "id": "e6243ea8",
      "metadata": {
        "id": "e6243ea8"
      },
      "outputs": [],
      "source": [
        "cleaned_news = []\n",
        "for news in df['news']:\n",
        "    cleaned_news.append(text_cleaning(news))\n",
        "cleaned_news = pd.Series(cleaned_news)"
      ]
    },
    {
      "cell_type": "code",
      "execution_count": null,
      "id": "e6a451b2",
      "metadata": {
        "id": "e6a451b2",
        "outputId": "75ab02a1-4f8b-4d52-939b-cd7c92989c12"
      },
      "outputs": [
        {
          "data": {
            "text/html": [
              "<div>\n",
              "<style scoped>\n",
              "    .dataframe tbody tr th:only-of-type {\n",
              "        vertical-align: middle;\n",
              "    }\n",
              "\n",
              "    .dataframe tbody tr th {\n",
              "        vertical-align: top;\n",
              "    }\n",
              "\n",
              "    .dataframe thead th {\n",
              "        text-align: right;\n",
              "    }\n",
              "</style>\n",
              "<table border=\"1\" class=\"dataframe\">\n",
              "  <thead>\n",
              "    <tr style=\"text-align: right;\">\n",
              "      <th></th>\n",
              "      <th>symbol</th>\n",
              "      <th>company_name</th>\n",
              "      <th>news</th>\n",
              "      <th>cleaned_news</th>\n",
              "    </tr>\n",
              "  </thead>\n",
              "  <tbody>\n",
              "    <tr>\n",
              "      <th>0</th>\n",
              "      <td>F9D.SI</td>\n",
              "      <td>Boustead Singapore Limited</td>\n",
              "      <td>Q4 2023 ProPetro Holding Corp Earnings Call</td>\n",
              "      <td>q4 2023 propetro holding corp earnings call</td>\n",
              "    </tr>\n",
              "    <tr>\n",
              "      <th>1</th>\n",
              "      <td>F9D.SI</td>\n",
              "      <td>Boustead Singapore Limited</td>\n",
              "      <td>BOJ to scrap negative interest rates in April,...</td>\n",
              "      <td>boj scrap negative interest rate april , say 8...</td>\n",
              "    </tr>\n",
              "    <tr>\n",
              "      <th>2</th>\n",
              "      <td>F9D.SI</td>\n",
              "      <td>Boustead Singapore Limited</td>\n",
              "      <td>Exclusive-Reddit in AI content licensing deal ...</td>\n",
              "      <td>exclusive-reddit ai content licensing deal goo...</td>\n",
              "    </tr>\n",
              "    <tr>\n",
              "      <th>3</th>\n",
              "      <td>F9D.SI</td>\n",
              "      <td>Boustead Singapore Limited</td>\n",
              "      <td>Q4 2023 Travel + Leisure Co Earnings Call</td>\n",
              "      <td>q4 2023 travel + leisure co earnings call</td>\n",
              "    </tr>\n",
              "    <tr>\n",
              "      <th>4</th>\n",
              "      <td>F9D.SI</td>\n",
              "      <td>Boustead Singapore Limited</td>\n",
              "      <td>Q4 2023 Diamondback Energy Inc Earnings Call</td>\n",
              "      <td>q4 2023 diamondback energy inc earnings call</td>\n",
              "    </tr>\n",
              "  </tbody>\n",
              "</table>\n",
              "</div>"
            ],
            "text/plain": [
              "   symbol                company_name  \\\n",
              "0  F9D.SI  Boustead Singapore Limited   \n",
              "1  F9D.SI  Boustead Singapore Limited   \n",
              "2  F9D.SI  Boustead Singapore Limited   \n",
              "3  F9D.SI  Boustead Singapore Limited   \n",
              "4  F9D.SI  Boustead Singapore Limited   \n",
              "\n",
              "                                                news  \\\n",
              "0        Q4 2023 ProPetro Holding Corp Earnings Call   \n",
              "1  BOJ to scrap negative interest rates in April,...   \n",
              "2  Exclusive-Reddit in AI content licensing deal ...   \n",
              "3          Q4 2023 Travel + Leisure Co Earnings Call   \n",
              "4       Q4 2023 Diamondback Energy Inc Earnings Call   \n",
              "\n",
              "                                        cleaned_news  \n",
              "0        q4 2023 propetro holding corp earnings call  \n",
              "1  boj scrap negative interest rate april , say 8...  \n",
              "2  exclusive-reddit ai content licensing deal goo...  \n",
              "3          q4 2023 travel + leisure co earnings call  \n",
              "4       q4 2023 diamondback energy inc earnings call  "
            ]
          },
          "execution_count": 15,
          "metadata": {},
          "output_type": "execute_result"
        }
      ],
      "source": [
        "df['cleaned_news'] = cleaned_news\n",
        "df.head()"
      ]
    },
    {
      "cell_type": "code",
      "execution_count": null,
      "id": "a301e3e6",
      "metadata": {
        "id": "a301e3e6"
      },
      "outputs": [],
      "source": [
        "def get_sentiment_score(text):\n",
        "    score_calculation = SentimentIntensityAnalyzer()\n",
        "    scores = score_calculation.polarity_scores(text)\n",
        "    if scores['pos'] > scores['neg']:\n",
        "        if scores['pos'] > scores['neu']:\n",
        "            return 'positive'\n",
        "        else:\n",
        "            return 'neutral'\n",
        "    else:\n",
        "        return 'negetive'\n",
        "\n",
        "scores = []\n",
        "for t in df['cleaned_news']:\n",
        "    scores.append(get_sentiment_score(t))"
      ]
    },
    {
      "cell_type": "code",
      "execution_count": null,
      "id": "348f8a97",
      "metadata": {
        "id": "348f8a97"
      },
      "outputs": [],
      "source": [
        "df['scores'] = pd.Series(scores)"
      ]
    },
    {
      "cell_type": "markdown",
      "id": "cb3dad4e",
      "metadata": {
        "id": "cb3dad4e"
      },
      "source": [
        "df.head()"
      ]
    },
    {
      "cell_type": "markdown",
      "id": "61f2d839",
      "metadata": {
        "id": "61f2d839"
      },
      "source": [
        "## Testing"
      ]
    },
    {
      "cell_type": "code",
      "execution_count": null,
      "id": "cb344d60",
      "metadata": {
        "id": "cb344d60",
        "outputId": "3af16343-f63c-49c6-8149-7a80146d10fd"
      },
      "outputs": [
        {
          "name": "stdout",
          "output_type": "stream",
          "text": [
            "Remarkable recovery: injured athlete returns to competition stronger than ever.: neutral\n",
            "Environmental disaster pollutes major waterway, endangering wildlife.: negetive\n",
            "This product is okay. It could be better.: neutral\n",
            "Survey reveals public opinion on current political issues.: negetive\n"
          ]
        }
      ],
      "source": [
        "testing_news_list=[\"Remarkable recovery: injured athlete returns to competition stronger than ever.\",\n",
        "                   \"Environmental disaster pollutes major waterway, endangering wildlife.\",\n",
        "                  \"This product is okay. It could be better.\",\n",
        "                  \"Survey reveals public opinion on current political issues.\"]\n",
        "\n",
        "#looping through each value in the list and calling the get_sentiment_score function\n",
        "for i in testing_news_list:\n",
        "    score=get_sentiment_score(i)\n",
        "    print(f'{i}: {score}')"
      ]
    },
    {
      "cell_type": "markdown",
      "id": "2a1321ef",
      "metadata": {
        "id": "2a1321ef"
      },
      "source": [
        "\n",
        "## visualization"
      ]
    },
    {
      "cell_type": "code",
      "execution_count": null,
      "id": "245952b4",
      "metadata": {
        "id": "245952b4"
      },
      "outputs": [],
      "source": [
        "# plotting the count of sentiments (three different types)\n",
        "import matplotlib.pyplot as plt"
      ]
    },
    {
      "cell_type": "code",
      "execution_count": null,
      "id": "250b4d79",
      "metadata": {
        "id": "250b4d79"
      },
      "outputs": [],
      "source": [
        "sentiment_count = df['scores'].value_counts()"
      ]
    },
    {
      "cell_type": "code",
      "execution_count": null,
      "id": "aab118e8",
      "metadata": {
        "id": "aab118e8",
        "outputId": "d18e0459-a93d-4e92-b922-53345eaca6f7"
      },
      "outputs": [
        {
          "data": {
            "image/png": "[encoded data removed]",
            "text/plain": [
              "<Figure size 640x480 with 1 Axes>"
            ]
          },
          "metadata": {},
          "output_type": "display_data"
        }
      ],
      "source": [
        "bars=plt.bar(sentiment_count.keys(), sentiment_count)\n",
        "plt.ylabel('count')\n",
        "plt.xlabel('Sentiment')\n",
        "bars[0].set_color('red')\n",
        "bars[1].set_color('blue')\n",
        "bars[2].set_color('green')\n",
        "plt.show()"
      ]
    },
    {
      "cell_type": "code",
      "execution_count": null,
      "id": "e961a8ed",
      "metadata": {
        "id": "e961a8ed",
        "outputId": "1ae4f132-543a-4303-fafd-8ed65f33c8d1"
      },
      "outputs": [
        {
          "data": {
            "text/html": [
              "<div>\n",
              "<style scoped>\n",
              "    .dataframe tbody tr th:only-of-type {\n",
              "        vertical-align: middle;\n",
              "    }\n",
              "\n",
              "    .dataframe tbody tr th {\n",
              "        vertical-align: top;\n",
              "    }\n",
              "\n",
              "    .dataframe thead th {\n",
              "        text-align: right;\n",
              "    }\n",
              "</style>\n",
              "<table border=\"1\" class=\"dataframe\">\n",
              "  <thead>\n",
              "    <tr style=\"text-align: right;\">\n",
              "      <th></th>\n",
              "      <th></th>\n",
              "      <th>scores</th>\n",
              "    </tr>\n",
              "    <tr>\n",
              "      <th>company_name</th>\n",
              "      <th>scores</th>\n",
              "      <th></th>\n",
              "    </tr>\n",
              "  </thead>\n",
              "  <tbody>\n",
              "    <tr>\n",
              "      <th rowspan=\"2\" valign=\"top\">Boustead Singapore Limited</th>\n",
              "      <th>negetive</th>\n",
              "      <td>6</td>\n",
              "    </tr>\n",
              "    <tr>\n",
              "      <th>neutral</th>\n",
              "      <td>2</td>\n",
              "    </tr>\n",
              "    <tr>\n",
              "      <th rowspan=\"2\" valign=\"top\">CapitaLand</th>\n",
              "      <th>negetive</th>\n",
              "      <td>6</td>\n",
              "    </tr>\n",
              "    <tr>\n",
              "      <th>neutral</th>\n",
              "      <td>2</td>\n",
              "    </tr>\n",
              "    <tr>\n",
              "      <th rowspan=\"2\" valign=\"top\">China Aviation Oil</th>\n",
              "      <th>negetive</th>\n",
              "      <td>6</td>\n",
              "    </tr>\n",
              "    <tr>\n",
              "      <th>neutral</th>\n",
              "      <td>2</td>\n",
              "    </tr>\n",
              "    <tr>\n",
              "      <th rowspan=\"2\" valign=\"top\">ComfortDelGro</th>\n",
              "      <th>negetive</th>\n",
              "      <td>6</td>\n",
              "    </tr>\n",
              "    <tr>\n",
              "      <th>neutral</th>\n",
              "      <td>2</td>\n",
              "    </tr>\n",
              "    <tr>\n",
              "      <th rowspan=\"2\" valign=\"top\">Fraser and Neave</th>\n",
              "      <th>negetive</th>\n",
              "      <td>7</td>\n",
              "    </tr>\n",
              "    <tr>\n",
              "      <th>neutral</th>\n",
              "      <td>1</td>\n",
              "    </tr>\n",
              "    <tr>\n",
              "      <th rowspan=\"2\" valign=\"top\">Genting Singapore</th>\n",
              "      <th>negetive</th>\n",
              "      <td>2</td>\n",
              "    </tr>\n",
              "    <tr>\n",
              "      <th>neutral</th>\n",
              "      <td>2</td>\n",
              "    </tr>\n",
              "    <tr>\n",
              "      <th>Golden Agri-Resources</th>\n",
              "      <th>negetive</th>\n",
              "      <td>1</td>\n",
              "    </tr>\n",
              "    <tr>\n",
              "      <th rowspan=\"2\" valign=\"top\">Grab</th>\n",
              "      <th>negetive</th>\n",
              "      <td>5</td>\n",
              "    </tr>\n",
              "    <tr>\n",
              "      <th>neutral</th>\n",
              "      <td>3</td>\n",
              "    </tr>\n",
              "    <tr>\n",
              "      <th rowspan=\"2\" valign=\"top\">NETS</th>\n",
              "      <th>negetive</th>\n",
              "      <td>6</td>\n",
              "    </tr>\n",
              "    <tr>\n",
              "      <th>neutral</th>\n",
              "      <td>1</td>\n",
              "    </tr>\n",
              "    <tr>\n",
              "      <th rowspan=\"2\" valign=\"top\">OCBC Bank</th>\n",
              "      <th>negetive</th>\n",
              "      <td>6</td>\n",
              "    </tr>\n",
              "    <tr>\n",
              "      <th>neutral</th>\n",
              "      <td>2</td>\n",
              "    </tr>\n",
              "    <tr>\n",
              "      <th rowspan=\"2\" valign=\"top\">SATS Ltd</th>\n",
              "      <th>negetive</th>\n",
              "      <td>6</td>\n",
              "    </tr>\n",
              "    <tr>\n",
              "      <th>neutral</th>\n",
              "      <td>2</td>\n",
              "    </tr>\n",
              "    <tr>\n",
              "      <th>SBS Transit</th>\n",
              "      <th>negetive</th>\n",
              "      <td>4</td>\n",
              "    </tr>\n",
              "    <tr>\n",
              "      <th rowspan=\"2\" valign=\"top\">SIA Engineering Company</th>\n",
              "      <th>negetive</th>\n",
              "      <td>6</td>\n",
              "    </tr>\n",
              "    <tr>\n",
              "      <th>neutral</th>\n",
              "      <td>2</td>\n",
              "    </tr>\n",
              "    <tr>\n",
              "      <th rowspan=\"2\" valign=\"top\">SembCorp Marine</th>\n",
              "      <th>negetive</th>\n",
              "      <td>6</td>\n",
              "    </tr>\n",
              "    <tr>\n",
              "      <th>neutral</th>\n",
              "      <td>2</td>\n",
              "    </tr>\n",
              "    <tr>\n",
              "      <th rowspan=\"3\" valign=\"top\">Singapore Airlines</th>\n",
              "      <th>negetive</th>\n",
              "      <td>5</td>\n",
              "    </tr>\n",
              "    <tr>\n",
              "      <th>neutral</th>\n",
              "      <td>4</td>\n",
              "    </tr>\n",
              "    <tr>\n",
              "      <th>positive</th>\n",
              "      <td>1</td>\n",
              "    </tr>\n",
              "    <tr>\n",
              "      <th rowspan=\"3\" valign=\"top\">Singapore Exchange</th>\n",
              "      <th>negetive</th>\n",
              "      <td>5</td>\n",
              "    </tr>\n",
              "    <tr>\n",
              "      <th>neutral</th>\n",
              "      <td>1</td>\n",
              "    </tr>\n",
              "    <tr>\n",
              "      <th>positive</th>\n",
              "      <td>1</td>\n",
              "    </tr>\n",
              "    <tr>\n",
              "      <th>Singapore Post</th>\n",
              "      <th>neutral</th>\n",
              "      <td>1</td>\n",
              "    </tr>\n",
              "    <tr>\n",
              "      <th rowspan=\"2\" valign=\"top\">Singapore Technologies Engineering Ltd</th>\n",
              "      <th>negetive</th>\n",
              "      <td>6</td>\n",
              "    </tr>\n",
              "    <tr>\n",
              "      <th>neutral</th>\n",
              "      <td>2</td>\n",
              "    </tr>\n",
              "    <tr>\n",
              "      <th rowspan=\"2\" valign=\"top\">StarHub</th>\n",
              "      <th>negetive</th>\n",
              "      <td>3</td>\n",
              "    </tr>\n",
              "    <tr>\n",
              "      <th>neutral</th>\n",
              "      <td>1</td>\n",
              "    </tr>\n",
              "    <tr>\n",
              "      <th rowspan=\"2\" valign=\"top\">Thakral Corporation</th>\n",
              "      <th>negetive</th>\n",
              "      <td>6</td>\n",
              "    </tr>\n",
              "    <tr>\n",
              "      <th>neutral</th>\n",
              "      <td>2</td>\n",
              "    </tr>\n",
              "    <tr>\n",
              "      <th rowspan=\"2\" valign=\"top\">Wilmar</th>\n",
              "      <th>negetive</th>\n",
              "      <td>7</td>\n",
              "    </tr>\n",
              "    <tr>\n",
              "      <th>neutral</th>\n",
              "      <td>2</td>\n",
              "    </tr>\n",
              "    <tr>\n",
              "      <th rowspan=\"2\" valign=\"top\">Yeo Hiap Seng</th>\n",
              "      <th>negetive</th>\n",
              "      <td>6</td>\n",
              "    </tr>\n",
              "    <tr>\n",
              "      <th>neutral</th>\n",
              "      <td>2</td>\n",
              "    </tr>\n",
              "  </tbody>\n",
              "</table>\n",
              "</div>"
            ],
            "text/plain": [
              "                                                 scores\n",
              "company_name                           scores          \n",
              "Boustead Singapore Limited             negetive       6\n",
              "                                       neutral        2\n",
              "CapitaLand                             negetive       6\n",
              "                                       neutral        2\n",
              "China Aviation Oil                     negetive       6\n",
              "                                       neutral        2\n",
              "ComfortDelGro                          negetive       6\n",
              "                                       neutral        2\n",
              "Fraser and Neave                       negetive       7\n",
              "                                       neutral        1\n",
              "Genting Singapore                      negetive       2\n",
              "                                       neutral        2\n",
              "Golden Agri-Resources                  negetive       1\n",
              "Grab                                   negetive       5\n",
              "                                       neutral        3\n",
              "NETS                                   negetive       6\n",
              "                                       neutral        1\n",
              "OCBC Bank                              negetive       6\n",
              "                                       neutral        2\n",
              "SATS Ltd                               negetive       6\n",
              "                                       neutral        2\n",
              "SBS Transit                            negetive       4\n",
              "SIA Engineering Company                negetive       6\n",
              "                                       neutral        2\n",
              "SembCorp Marine                        negetive       6\n",
              "                                       neutral        2\n",
              "Singapore Airlines                     negetive       5\n",
              "                                       neutral        4\n",
              "                                       positive       1\n",
              "Singapore Exchange                     negetive       5\n",
              "                                       neutral        1\n",
              "                                       positive       1\n",
              "Singapore Post                         neutral        1\n",
              "Singapore Technologies Engineering Ltd negetive       6\n",
              "                                       neutral        2\n",
              "StarHub                                negetive       3\n",
              "                                       neutral        1\n",
              "Thakral Corporation                    negetive       6\n",
              "                                       neutral        2\n",
              "Wilmar                                 negetive       7\n",
              "                                       neutral        2\n",
              "Yeo Hiap Seng                          negetive       6\n",
              "                                       neutral        2"
            ]
          },
          "execution_count": 39,
          "metadata": {},
          "output_type": "execute_result"
        }
      ],
      "source": [
        "df.groupby(['company_name', 'scores'])[['scores']].count()"
      ]
    },
    {
      "cell_type": "code",
      "execution_count": null,
      "id": "26db8da9",
      "metadata": {
        "id": "26db8da9"
      },
      "outputs": [],
      "source": [
        "df.to_csv('sentiment_data.csv')"
      ]
    },
    {
      "cell_type": "code",
      "execution_count": null,
      "id": "2a7313b7",
      "metadata": {
        "id": "2a7313b7"
      },
      "outputs": [],
      "source": []
    }
  ],
  "metadata": {
    "kernelspec": {
      "display_name": "Python 3 (ipykernel)",
      "language": "python",
      "name": "python3"
    },
    "language_info": {
      "codemirror_mode": {
        "name": "ipython",
        "version": 3
      },
      "file_extension": ".py",
      "mimetype": "text/x-python",
      "name": "python",
      "nbconvert_exporter": "python",
      "pygments_lexer": "ipython3",
      "version": "3.11.4"
    },
    "colab": {
      "provenance": []
    }
  },
  "nbformat": 4,
  "nbformat_minor": 5
}