{
 "cells": [
  {
   "cell_type": "code",
   "execution_count": 1,
   "id": "36a6a821",
   "metadata": {},
   "outputs": [
    {
     "name": "stdout",
     "output_type": "stream",
     "text": [
      "This:is:an. example\n"
     ]
    }
   ],
   "source": [
    "## QUES 1\n",
    "import re\n",
    "\n",
    "def replace_with_colon(text):\n",
    "    return re.sub(r'[ ,.]{1,2}', ':', text, count=2)\n",
    "\n",
    "text = \"This  is, an. example\"\n",
    "print(replace_with_colon(text))"
   ]
  },
  {
   "cell_type": "code",
   "execution_count": 2,
   "id": "8c18b46d",
   "metadata": {},
   "outputs": [
    {
     "name": "stdout",
     "output_type": "stream",
     "text": [
      "['words', 'hello', 'world']\n"
     ]
    }
   ],
   "source": [
    "## QUES 2\n",
    "import re\n",
    "\n",
    "def find_five_char_words(text):\n",
    "    return re.findall(r'\\b\\w{5}\\b', text)\n",
    "\n",
    "text = \"This is an example of five-character words like hello and world.\"\n",
    "print(find_five_char_words(text))"
   ]
  },
  {
   "cell_type": "code",
   "execution_count": 3,
   "id": "3a94b8f2",
   "metadata": {},
   "outputs": [
    {
     "name": "stdout",
     "output_type": "stream",
     "text": [
      "['This', 'words', 'with', 'like', 'cat', 'dog', 'and']\n"
     ]
    }
   ],
   "source": [
    "## QUES 3\n",
    "\n",
    "import re\n",
    "\n",
    "def find_words_by_length(text, min_length=3, max_length=5):\n",
    "    pattern = r'\\b\\w{' + str(min_length) + ',' + str(max_length) + r'}\\b'\n",
    "    return re.findall(pattern, text)\n",
    "\n",
    "text = \"This is an example of words with various lengths like cat, dog, and elephant.\"\n",
    "print(find_words_by_length(text))"
   ]
  },
  {
   "cell_type": "code",
   "execution_count": 4,
   "id": "92e78939",
   "metadata": {},
   "outputs": [
    {
     "name": "stdout",
     "output_type": "stream",
     "text": [
      "['This', 'example', 'words', 'with', 'varying', 'lengths', 'like', 'elephant']\n"
     ]
    }
   ],
   "source": [
    "## QUES 4\n",
    "import re\n",
    "\n",
    "def find_long_words(text, min_length=4):\n",
    "    return re.findall(r'\\b\\w{' + str(min_length) + r',}\\b', text)\n",
    "\n",
    "text = \"This is an example of words with varying lengths like cat, dog, and elephant.\"\n",
    "print(find_long_words(text))"
   ]
  },
  {
   "cell_type": "code",
   "execution_count": 5,
   "id": "bad76f8e",
   "metadata": {},
   "outputs": [
    {
     "name": "stdout",
     "output_type": "stream",
     "text": [
      "camel_case_string\n"
     ]
    }
   ],
   "source": [
    "## QUES 5\n",
    "\n",
    "\n",
    "import re\n",
    "\n",
    "def camel_to_snake(text):\n",
    "    return re.sub(r'([a-z])([A-Z])', r'\\1_\\2', text).lower()\n",
    "\n",
    "text = \"camelCaseString\"\n",
    "print(camel_to_snake(text))"
   ]
  },
  {
   "cell_type": "code",
   "execution_count": 6,
   "id": "d66cc547",
   "metadata": {},
   "outputs": [
    {
     "name": "stdout",
     "output_type": "stream",
     "text": [
      "SnakeCaseString\n"
     ]
    }
   ],
   "source": [
    "## QUES 6\n",
    "\n",
    "def snake_to_camel(text):\n",
    "    return ''.join(word.title() for word in text.split('_'))\n",
    "\n",
    "text = \"snake_case_string\"\n",
    "print(snake_to_camel(text))"
   ]
  },
  {
   "cell_type": "code",
   "execution_count": 7,
   "id": "4203c01b",
   "metadata": {},
   "outputs": [
    {
     "name": "stdout",
     "output_type": "stream",
     "text": [
      "['quoted', 'values']\n"
     ]
    }
   ],
   "source": [
    "## QUES 7\n",
    "\n",
    "def extract_quoted_values(text):\n",
    "    return re.findall(r'\"([^\"]*)\"', text)\n",
    "\n",
    "text = 'This is a \"quoted\" string with \"values\" inside.'\n",
    "print(extract_quoted_values(text))"
   ]
  },
  {
   "cell_type": "code",
   "execution_count": 8,
   "id": "fc2af694",
   "metadata": {},
   "outputs": [
    {
     "name": "stdout",
     "output_type": "stream",
     "text": [
      "This is an example with multiple spaces.\n"
     ]
    }
   ],
   "source": [
    "## QUES 8\n",
    "\n",
    "def remove_multiple_spaces(text):\n",
    "    return re.sub(r'\\s+', ' ', text)\n",
    "\n",
    "text = \"This   is    an   example    with multiple      spaces.\"\n",
    "print(remove_multiple_spaces(text))"
   ]
  },
  {
   "cell_type": "code",
   "execution_count": 9,
   "id": "33995f31",
   "metadata": {},
   "outputs": [
    {
     "name": "stdout",
     "output_type": "stream",
     "text": [
      "Thisisanexamplewithwhitespacesremoved.\n"
     ]
    }
   ],
   "source": [
    "## QUES 9\n",
    "\n",
    "def remove_all_whitespaces(text):\n",
    "    return re.sub(r'\\s+', '', text)\n",
    "\n",
    "text = \"This is an example with whitespaces removed.\"\n",
    "print(remove_all_whitespaces(text))"
   ]
  },
  {
   "cell_type": "code",
   "execution_count": 10,
   "id": "5e7c5fad",
   "metadata": {},
   "outputs": [
    {
     "name": "stdout",
     "output_type": "stream",
     "text": [
      "Thisisanexamplewithnonalphanumericcharacters\n"
     ]
    }
   ],
   "source": [
    "## QUES 10\n",
    "\n",
    "\n",
    "def remove_non_alphanumeric(text):\n",
    "    return re.sub(r'[^a-zA-Z0-9]', '', text)\n",
    "\n",
    "text = \"This is an example with non-alphanumeric characters: !@#$%^&*()\"\n",
    "print(remove_non_alphanumeric(text))"
   ]
  },
  {
   "cell_type": "code",
   "execution_count": 11,
   "id": "dd561c64",
   "metadata": {},
   "outputs": [
    {
     "name": "stdout",
     "output_type": "stream",
     "text": [
      "['https://www.example.com']\n"
     ]
    }
   ],
   "source": [
    "## QUES 11\n",
    "\n",
    "def find_urls(text):\n",
    "    return re.findall(r'http[s]?://(?:[a-zA-Z]|[0-9]|[$-_@.&+]|[!*\\\\(\\\\),]|(?:%[0-9a-fA-F][0-9a-fA-F]))+', text)\n",
    "\n",
    "text = \"Here is a URL: https://www.example.com\"\n",
    "print(find_urls(text))\n"
   ]
  },
  {
   "cell_type": "code",
   "execution_count": 12,
   "id": "d43ba1a6",
   "metadata": {},
   "outputs": [
    {
     "name": "stdout",
     "output_type": "stream",
     "text": [
      "['S', 'T', 'S']\n"
     ]
    }
   ],
   "source": [
    "##QUES 12\n",
    "\n",
    "def split_uppercase(text):\n",
    "    return re.findall(r'[A-Z]', text)\n",
    "\n",
    "text = \"SplitThisString\"\n",
    "print(split_uppercase(text))"
   ]
  },
  {
   "cell_type": "code",
   "execution_count": 13,
   "id": "64e7fe2f",
   "metadata": {},
   "outputs": [
    {
     "name": "stdout",
     "output_type": "stream",
     "text": [
      "This is a example string for replacement.\n"
     ]
    }
   ],
   "source": [
    "## QUES 13\n",
    "\n",
    "\n",
    "def case_insensitive_replace(text, old, new):\n",
    "    return re.sub(re.compile(re.escape(old), re.IGNORECASE), new, text)\n",
    "\n",
    "text = \"This is a TeSt string for replacement.\"\n",
    "print(case_insensitive_replace(text, 'test', 'example'))\n"
   ]
  },
  {
   "cell_type": "code",
   "execution_count": 14,
   "id": "c6d5d3cf",
   "metadata": {},
   "outputs": [
    {
     "name": "stdout",
     "output_type": "stream",
     "text": [
      "Insert Spaces Between Words Starting With Capitals\n"
     ]
    }
   ],
   "source": [
    "## QUES 14\n",
    "\n",
    "def insert_spaces_between_capitals(text):\n",
    "    return re.sub(r'(\\w)([A-Z])', r'\\1 \\2', text)\n",
    "\n",
    "text = \"InsertSpacesBetweenWordsStartingWithCapitals\"\n",
    "print(insert_spaces_between_capitals(text))\n"
   ]
  }
 ],
 "metadata": {
  "kernelspec": {
   "display_name": "Python 3 (ipykernel)",
   "language": "python",
   "name": "python3"
  },
  "language_info": {
   "codemirror_mode": {
    "name": "ipython",
    "version": 3
   },
   "file_extension": ".py",
   "mimetype": "text/x-python",
   "name": "python",
   "nbconvert_exporter": "python",
   "pygments_lexer": "ipython3",
   "version": "3.11.4"
  }
 },
 "nbformat": 4,
 "nbformat_minor": 5
}
