{
  "nbformat": 4,
  "nbformat_minor": 0,
  "metadata": {
    "colab": {
      "provenance": []
    },
    "kernelspec": {
      "name": "python3",
      "display_name": "Python 3"
    },
    "language_info": {
      "name": "python"
    }
  },
  "cells": [
    {
      "cell_type": "markdown",
      "source": [
        "# **Practicing function and class **"
      ],
      "metadata": {
        "id": "87VRWRdXJXAd"
      }
    },
    {
      "cell_type": "code",
      "execution_count": 1,
      "metadata": {
        "colab": {
          "base_uri": "https://localhost:8080/"
        },
        "id": "1CGNDSySJMpk",
        "outputId": "1601cf03-d3b6-4136-bd32-a36a05ebd8ff"
      },
      "outputs": [
        {
          "output_type": "stream",
          "name": "stdout",
          "text": [
            "Chipotle\n",
            "Veggie Bowl\n",
            "\n",
            "Chipotle serves very delicious Veggie Bowl.\n",
            "\n",
            "Chipotle is open. Welcome \n"
          ]
        }
      ],
      "source": [
        "# creating a class\n",
        "class hotel():\n",
        "\n",
        "    def __init__(self, name, cuisine_type):\n",
        "        self.name = name.title()\n",
        "        self.cuisine_type = cuisine_type\n",
        "\n",
        "    def describe_hotel(self):\n",
        "        msg = self.name + \" serves very delicious \" + self.cuisine_type + \".\"\n",
        "        print(\"\\n\" + msg)\n",
        "\n",
        "    def open_hotel(self):\n",
        "        msg = self.name + \" is open. Welcome \"\n",
        "        print(\"\\n\" + msg)\n",
        "\n",
        "hotel = hotel('Chipotle', 'Veggie Bowl')\n",
        "print(hotel.name)\n",
        "print(hotel.cuisine_type)\n",
        "\n",
        "hotel.describe_hotel()\n",
        "hotel.open_hotel()"
      ]
    },
    {
      "cell_type": "markdown",
      "source": [],
      "metadata": {
        "id": "NVW4QZeRJReM"
      }
    },
    {
      "cell_type": "code",
      "source": [],
      "metadata": {
        "id": "bt05aVnAJOik"
      },
      "execution_count": null,
      "outputs": []
    }
  ]
}