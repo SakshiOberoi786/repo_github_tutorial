{
  "nbformat": 4,
  "nbformat_minor": 0,
  "metadata": {
    "colab": {
      "provenance": []
    },
    "kernelspec": {
      "name": "python3",
      "display_name": "Python 3"
    },
    "language_info": {
      "name": "python"
    }
  },
  "cells": [
    {
      "cell_type": "markdown",
      "source": [
        "Creating class to display user's information"
      ],
      "metadata": {
        "id": "GX578xRt4t74"
      }
    },
    {
      "cell_type": "code",
      "execution_count": 1,
      "metadata": {
        "colab": {
          "base_uri": "https://localhost:8080/"
        },
        "id": "hunDNETj4aHY",
        "outputId": "ef15b425-fb92-4563-ad67-0c6ddd9d661b"
      },
      "outputs": [
        {
          "output_type": "stream",
          "name": "stdout",
          "text": [
            "\n",
            "Sakshi Oberoi\n",
            "  Username: s_oberoi\n",
            "  Email: s_oberoi@google.com\n",
            "  Location: Northyork\n",
            "\n",
            "Welcome back, s_oberoi!\n",
            "\n",
            "Chipotle Mexican Grill\n",
            "  Username: Chipotle Mexican Grill\n",
            "  Email: chipotle@example.com\n",
            "  Location: Toronto\n",
            "\n",
            "Welcome back, Chipotle Mexican Grill!\n"
          ]
        }
      ],
      "source": [
        "# creating  a class\n",
        "class User():\n",
        "\n",
        "#displaying summary of user\n",
        "    def __init__(self, first_name, last_name, username, email, location):\n",
        "        self.first_name = first_name.title()\n",
        "        self.last_name = last_name.title()\n",
        "        self.username = username\n",
        "        self.email = email\n",
        "        self.location = location.title()\n",
        "\n",
        "\n",
        "# displaying user's information\n",
        "    def describe_user(self):\n",
        "        print(\"\\n\" + self.first_name + \" \" + self.last_name)\n",
        "        print(\"  Username: \" + self.username)\n",
        "        print(\"  Email: \" + self.email)\n",
        "        print(\"  Location: \" + self.location)\n",
        "\n",
        "    def greet_user(self):\n",
        "        print(\"\\nWelcome back, \" + self.username + \"!\")\n",
        "\n",
        "name = User('Sakshi', 'Oberoi', 's_oberoi', 's_oberoi@google.com', 'Northyork')\n",
        "name.describe_user()\n",
        "name.greet_user()\n",
        "\n",
        "chipotle = User('chipotle', 'mexican grill', 'Chipotle Mexican Grill', 'chipotle@example.com', 'Toronto')\n",
        "chipotle.describe_user()\n",
        "chipotle.greet_user()"
      ]
    }
  ]
}