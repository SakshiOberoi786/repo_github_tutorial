{
  "nbformat": 4,
  "nbformat_minor": 0,
  "metadata": {
    "colab": {
      "provenance": []
    },
    "kernelspec": {
      "name": "python3",
      "display_name": "Python 3"
    },
    "language_info": {
      "name": "python"
    }
  },
  "cells": [
    {
      "cell_type": "code",
      "execution_count": 2,
      "metadata": {
        "colab": {
          "base_uri": "https://localhost:8080/"
        },
        "id": "NHkP90TscLqb",
        "outputId": "e21cabca-e81a-42ba-afc4-855119e3deee"
      },
      "outputs": [
        {
          "output_type": "stream",
          "name": "stdout",
          "text": [
            "Enter a number: 25\n",
            "25 is not a prime number.\n"
          ]
        }
      ],
      "source": [
        "# Input a number\n",
        "num = int(input(\"Enter a number: \"))\n",
        "\n",
        "# Assume number is prime\n",
        "checking_prime = True\n",
        "\n",
        "# Check for factors from 2 to sqrt(num)\n",
        "for i in range(2, int(num**0.5) + 1):\n",
        "    if num % i == 0:\n",
        "        checking_prime = False\n",
        "        break\n",
        "\n",
        "# Output the result\n",
        "if checking_prime and num > 1:\n",
        "    print(f\"{num} is a prime number.\")\n",
        "else:\n",
        "    print(f\"{num} is not a prime number.\")\n"
      ]
    },
    {
      "cell_type": "code",
      "source": [
        "# Input a string\n",
        "string = input(\"Enter a string: \")\n",
        "\n",
        "# Initialize vowel count\n",
        "vowels = 'aeiouAEIOU'\n",
        "count = 0\n",
        "\n",
        "# Count vowels\n",
        "for char in string:\n",
        "    if char in vowels:\n",
        "        count += 1\n",
        "\n",
        "# Output the result\n",
        "print(f\"The number of vowels in the string is: {count}\")\n"
      ],
      "metadata": {
        "colab": {
          "base_uri": "https://localhost:8080/"
        },
        "id": "c3EVBnyHccFR",
        "outputId": "ddc9ecb7-6548-4fbf-9d04-5aa78f4e60a7"
      },
      "execution_count": 3,
      "outputs": [
        {
          "output_type": "stream",
          "name": "stdout",
          "text": [
            "Enter a string: gugdyuugbiijjj\n",
            "The number of vowels in the string is: 5\n"
          ]
        }
      ]
    },
    {
      "cell_type": "code",
      "source": [],
      "metadata": {
        "id": "HrP_GNhhclUa"
      },
      "execution_count": null,
      "outputs": []
    }
  ]
}